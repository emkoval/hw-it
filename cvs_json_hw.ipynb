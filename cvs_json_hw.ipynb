{
  "nbformat": 4,
  "nbformat_minor": 0,
  "metadata": {
    "colab": {
      "provenance": [],
      "authorship_tag": "ABX9TyPrrdZNCPSk02Ug0avFkQVC",
      "include_colab_link": true
    },
    "kernelspec": {
      "name": "python3",
      "display_name": "Python 3"
    },
    "language_info": {
      "name": "python"
    }
  },
  "cells": [
    {
      "cell_type": "markdown",
      "metadata": {
        "id": "view-in-github",
        "colab_type": "text"
      },
      "source": [
        "<a href=\"https://colab.research.google.com/github/emkoval/hw-it/blob/main/cvs_json_hw.ipynb\" target=\"_parent\"><img src=\"https://colab.research.google.com/assets/colab-badge.svg\" alt=\"Open In Colab\"/></a>"
      ]
    },
    {
      "cell_type": "markdown",
      "source": [],
      "metadata": {
        "id": "HvptFvIVpH1p"
      }
    },
    {
      "cell_type": "code",
      "source": [
        "import json\n",
        "import csv\n"
      ],
      "metadata": {
        "id": "Xh7QHfBoTaU7"
      },
      "execution_count": null,
      "outputs": []
    },
    {
      "cell_type": "markdown",
      "source": [
        "1. Write a Python program to convert JSON data to Python object.\n"
      ],
      "metadata": {
        "id": "smE-pi2ipLg-"
      }
    },
    {
      "cell_type": "code",
      "source": [
        "json_data = '{\"employee\":{\"name\":\"John\", \"age\":30, \"city\":\"New York\"}}'\n",
        "\n",
        "py_obj = json.loads(json_data)\n",
        "print(py_obj[\"employee\"][\"name\"])"
      ],
      "metadata": {
        "colab": {
          "base_uri": "https://localhost:8080/"
        },
        "id": "NQplV-PWpO-N",
        "outputId": "eb3100a7-f9cf-44a1-aa85-ef352dd07ff1"
      },
      "execution_count": null,
      "outputs": [
        {
          "output_type": "stream",
          "name": "stdout",
          "text": [
            "John\n"
          ]
        }
      ]
    },
    {
      "cell_type": "markdown",
      "source": [
        "2. Write a Python program to convert Python object to JSON data\n",
        "\n"
      ],
      "metadata": {
        "id": "pWvedzlroclq"
      }
    },
    {
      "cell_type": "code",
      "execution_count": null,
      "metadata": {
        "id": "TRlDs5VEoPQa"
      },
      "outputs": [],
      "source": [
        "py_obj2 = {\"employee\":{\"name\":\"John\", \"age\":30, \"city\":\"New York\"}}\n",
        "json_data2 = json.dumps(py_obj2)"
      ]
    },
    {
      "cell_type": "markdown",
      "source": [
        "3. Write a Python program to convert Python objects into JSON strings. Print all the values.\n",
        "\n"
      ],
      "metadata": {
        "id": "RSae5UFFoncr"
      }
    },
    {
      "cell_type": "code",
      "source": [
        "py_str = \"hello\"\n",
        "py_num = 5\n",
        "py_list = [\"hello\", 5]\n",
        "py_dict = {\"hello\": 5}\n",
        "py_flag = True\n",
        "\n",
        "json_str = json.dumps(py_str)\n",
        "json_num = json.dumps(py_num)\n",
        "json_list = json.dumps(py_list)\n",
        "json_dict = json.dumps(py_dict)\n",
        "json_flag = json.dumps(py_flag)\n",
        "\n",
        "print(json_str, json_num, json_list, json_dict, json_flag, sep=\"\\n\")"
      ],
      "metadata": {
        "colab": {
          "base_uri": "https://localhost:8080/"
        },
        "id": "winlwkaVUpRg",
        "outputId": "760fb5f5-8338-4e6a-e247-6e55d6f4da0d"
      },
      "execution_count": null,
      "outputs": [
        {
          "output_type": "stream",
          "name": "stdout",
          "text": [
            "\"hello\"\n",
            "5\n",
            "[\"hello\", 5]\n",
            "{\"hello\": 5}\n",
            "true\n"
          ]
        }
      ]
    },
    {
      "cell_type": "markdown",
      "source": [
        "4. Write a Python program to convert Python dictionary object (sort by key) to JSON data. Print the object members with indent level 4.\n",
        "\n"
      ],
      "metadata": {
        "id": "Gk9Uv7V6oqYV"
      }
    },
    {
      "cell_type": "code",
      "source": [
        "py_dict4 = {'4': 5, '6': 7, '1': 3, '2': 4}\n",
        "json_dict4 = json.dumps(py_dict4, sort_keys=True, indent=4)\n",
        "\n",
        "print(json_dict4)\n"
      ],
      "metadata": {
        "colab": {
          "base_uri": "https://localhost:8080/"
        },
        "id": "w5YxCwmLWuW0",
        "outputId": "9c819161-c0c5-473a-9577-a1e2d3951595"
      },
      "execution_count": null,
      "outputs": [
        {
          "output_type": "stream",
          "name": "stdout",
          "text": [
            "{\n",
            "    \"1\": 3,\n",
            "    \"2\": 4,\n",
            "    \"4\": 5,\n",
            "    \"6\": 7\n",
            "}\n"
          ]
        }
      ]
    },
    {
      "cell_type": "markdown",
      "source": [
        "5. Write a Python program to convert JSON encoded data into Python objects.\n",
        "\n"
      ],
      "metadata": {
        "id": "FNxaaiBRotIe"
      }
    },
    {
      "cell_type": "code",
      "source": [
        "json_data5 = '{\"employee\":{\"name\":\"John\", \"age\":30, \"city\":\"New York\"}}'\n",
        "\n",
        "py_obj5 = json.loads(json_data5)\n",
        "print(py_obj5[\"employee\"][\"name\"])"
      ],
      "metadata": {
        "id": "sDeIVhY0X0u0"
      },
      "execution_count": null,
      "outputs": []
    },
    {
      "cell_type": "markdown",
      "source": [
        "6. Write a Python program to create a new JSON file from an existing JSON file.\n",
        "\n"
      ],
      "metadata": {
        "id": "t4gPQZEyYYb0"
      }
    },
    {
      "cell_type": "code",
      "source": [
        "with open('file.json') as f:\n",
        "  my_data= json.load(f)\n",
        "\n",
        "with open('new_file.json', 'w') as f:\n",
        "  json.dump(my_data, f)"
      ],
      "metadata": {
        "id": "fIqBTql2Y3-5"
      },
      "execution_count": null,
      "outputs": []
    },
    {
      "cell_type": "markdown",
      "source": [
        "\n",
        "7. Write a Python program to check whether an instance is complex or not.\n",
        "\n"
      ],
      "metadata": {
        "id": "ipo1AfxvYeYP"
      }
    },
    {
      "cell_type": "code",
      "source": [
        "def check_complex(object):\n",
        "    return isinstance(object, complex)\n",
        "\n",
        "num = 2 + 3j\n",
        "print(check_complex(num))"
      ],
      "metadata": {
        "colab": {
          "base_uri": "https://localhost:8080/"
        },
        "id": "sMJp0fcAacHE",
        "outputId": "15079e5f-0fe2-4ab8-833e-8e1f77d31789"
      },
      "execution_count": null,
      "outputs": [
        {
          "output_type": "stream",
          "name": "stdout",
          "text": [
            "True\n"
          ]
        }
      ]
    },
    {
      "cell_type": "markdown",
      "source": [
        "9. Write a Python program to access only unique key value of a Python object."
      ],
      "metadata": {
        "id": "0N5NMNKJYiuP"
      }
    },
    {
      "cell_type": "code",
      "source": [
        "py_str9 = '{\"name\":\"John\", \"name\":\"Mary\", \"age\":100000, \"age\":30, \"city\":\"New York\"}'\n",
        "\n",
        "json_str9 = json.loads(py_str9)\n",
        "print(json_str9)"
      ],
      "metadata": {
        "colab": {
          "base_uri": "https://localhost:8080/"
        },
        "id": "nAgferG9d11-",
        "outputId": "3017a7c5-5080-4f2e-a284-dfe6599213c9"
      },
      "execution_count": null,
      "outputs": [
        {
          "output_type": "stream",
          "name": "stdout",
          "text": [
            "{'name': 'Mary', 'age': 30, 'city': 'New York'}\n"
          ]
        }
      ]
    },
    {
      "cell_type": "markdown",
      "source": [
        "1. Write a Python program to read each row from a given csv file and print a list of strings.\n",
        "\n"
      ],
      "metadata": {
        "id": "FpgIA7htYqRF"
      }
    },
    {
      "cell_type": "code",
      "source": [
        "with open(\"file.csv\", \"r\") as f:\n",
        "  lines = f.readlines()\n",
        "  print(lines)\n"
      ],
      "metadata": {
        "id": "N2--l2FIfoGK"
      },
      "execution_count": null,
      "outputs": []
    },
    {
      "cell_type": "markdown",
      "source": [
        "2. Write a Python program to read a given CSV file having tab delimiter.\n",
        "\n"
      ],
      "metadata": {
        "id": "A06NPViVfaJG"
      }
    },
    {
      "cell_type": "code",
      "source": [
        "import csv\n",
        "with open('file.csv', newline='') as f:\n",
        "  data = csv.reader(f, delimiter = '\\t')"
      ],
      "metadata": {
        "id": "s_bSa2w5gmqA"
      },
      "execution_count": null,
      "outputs": []
    },
    {
      "cell_type": "markdown",
      "source": [
        "3. Write a Python program to read a given CSV file as a list.\n"
      ],
      "metadata": {
        "id": "gxGML_qefdzZ"
      }
    },
    {
      "cell_type": "code",
      "source": [
        "with open('file.csv', newline='') as f:\n",
        "  data = csv.reader(f)\n",
        "  datalist = list(data)"
      ],
      "metadata": {
        "id": "1kMrQs6hfhOa"
      },
      "execution_count": null,
      "outputs": []
    },
    {
      "cell_type": "markdown",
      "source": [
        "\n",
        "4. Write a Python program to read a given CSV file as a dictionary.\n",
        "\n"
      ],
      "metadata": {
        "id": "4OJJ34ftfiEV"
      }
    },
    {
      "cell_type": "code",
      "source": [
        "data = csv.DictReader(open(\"file.csv\"))"
      ],
      "metadata": {
        "id": "xk9PmrgTiaub"
      },
      "execution_count": null,
      "outputs": []
    },
    {
      "cell_type": "markdown",
      "source": [
        "5. Write a Python program to read a given CSV files with initial spaces after a delimiter and remove those initial spaces."
      ],
      "metadata": {
        "id": "aAEaS5EEfkhI"
      }
    },
    {
      "cell_type": "code",
      "source": [
        "with open('file.csv', newline='') as f:\n",
        "  data = csv.reader(f, skipinitialspace=True)\n",
        "\n"
      ],
      "metadata": {
        "id": "9-72IkDZi5Cx"
      },
      "execution_count": null,
      "outputs": []
    },
    {
      "cell_type": "markdown",
      "source": [
        "\n",
        "6. Write a Python program that reads a CSV file and remove initial spaces, quotes around each entry and the delimiter.\n",
        "\n"
      ],
      "metadata": {
        "id": "ol5YsF3lowS2"
      }
    },
    {
      "cell_type": "code",
      "source": [
        "csv.register_dialect('my_dialect', delimiter=',', skipinitialspace=True, quoting=csv.QUOTE_ALL)\n",
        "with open('file.csv', 'r') as f:\n",
        "   reader = csv.reader(f, dialect='my_dialect')\n",
        "   for row in reader:\n",
        "       print(row)"
      ],
      "metadata": {
        "id": "GvVMUIiajzFd"
      },
      "execution_count": null,
      "outputs": []
    },
    {
      "cell_type": "markdown",
      "source": [
        "7. Write a Python program to read specific columns of a given CSV file and print the content of the columns.\n",
        "\n"
      ],
      "metadata": {
        "id": "C2mvxVabo3u9"
      }
    },
    {
      "cell_type": "code",
      "source": [
        "import pandas as pd\n",
        "my_file = pd.read_csv(my_file.csv)\n",
        "column = my_file.column_name"
      ],
      "metadata": {
        "id": "LZNt_YF3RTWZ"
      },
      "execution_count": null,
      "outputs": []
    },
    {
      "cell_type": "markdown",
      "source": [
        "8. Write a Python program that reads each row of a given csv file and skip the header of the file. Also print the number of rows and the field names.\n",
        "\n"
      ],
      "metadata": {
        "id": "VfX_SCxdo7bo"
      }
    },
    {
      "cell_type": "code",
      "source": [
        "fields = []\n",
        "rows = []\n",
        "with open('file.csv', newline='') as my_file:\n",
        " data = csv.reader(my_file, delimiter=',', quotechar='\"')\n",
        " fields = next(data)\n",
        " for row in data:\n",
        "   print(', '.join(row))"
      ],
      "metadata": {
        "id": "yeGlxLsmW6e5"
      },
      "execution_count": null,
      "outputs": []
    },
    {
      "cell_type": "markdown",
      "source": [
        "9. Write a Python program to create an object for writing and iterate over the rows to print the values.\n",
        "\n"
      ],
      "metadata": {
        "id": "tbkNCtZQo-YM"
      }
    },
    {
      "cell_type": "code",
      "source": [
        "import csv\n",
        "import sys\n",
        "with open('temp.csv', 'wt') as f:\n",
        "    writer = csv.writer(f)\n",
        "    writer.writerow(('id1', 'id2', 'date'))\n",
        "    for i in range(3):\n",
        "        row = (\n",
        "            i + 1,\n",
        "            chr(ord('a') + i),\n",
        "            '01/{:02d}/2019'.format(i + 1),)\n",
        "        writer.writerow(row)\n",
        "print(open('temp.csv', 'rt').read())"
      ],
      "metadata": {
        "id": "OPXm7B5XYC-6"
      },
      "execution_count": null,
      "outputs": []
    },
    {
      "cell_type": "markdown",
      "source": [
        "10. Write a Python program to write a Python list of lists to a csv file. After writing the CSV file read the CSV file and display the content.\n"
      ],
      "metadata": {
        "id": "qLILQPZ7pBYv"
      }
    },
    {
      "cell_type": "code",
      "source": [
        "data = [[1, 2, 3], [4, 5, 6], [7, 8, 9]]\n",
        "\n",
        "#writing\n",
        "with open(\"myfile.csv\", \"w\", newline=\"\") as f1:\n",
        "   writer = csv.writer(f1)\n",
        "   writer.writerows(data)\n",
        "\n",
        "#reading\n",
        "with open('myfile.csv', newline='') as f2:\n",
        " data = csv.reader(f2, delimiter=' ')\n",
        " for row in data:\n",
        "   print(', '.join(row))"
      ],
      "metadata": {
        "id": "ObJzpv5IYigv"
      },
      "execution_count": null,
      "outputs": []
    },
    {
      "cell_type": "markdown",
      "source": [
        "\n",
        "11. Write a Python program to write a Python dictionary to a csv file. After writing the CSV file read the CSV file and display the content."
      ],
      "metadata": {
        "id": "1E6RoVFYpFhB"
      }
    },
    {
      "cell_type": "code",
      "source": [
        "csv_columns = ['id','Column1', 'Column2', 'Column3', 'Column4', 'Column5']\n",
        "dict_data = {'id':['1', '2', '3'],\n",
        "    'Column1':[33, 25, 56],\n",
        "    'Column2':[35, 30, 30],\n",
        "    'Column3':[21, 40, 55],\n",
        "    'Column4':[71, 25, 55],\n",
        "    'Column5':[10, 10, 40], }\n",
        "csv_file = \"temp.csv\"\n",
        "try:\n",
        "   with open(csv_file, 'w') as csvfile:\n",
        "       writer = csv.DictWriter(csvfile, fieldnames=csv_columns)\n",
        "       writer.writeheader()\n",
        "       for data in dict_data:\n",
        "           writer.writerow(dict_data)\n",
        "except IOError:\n",
        "   print(\"I/O error\")\n",
        "data = csv.DictReader(open(csv_file))\n",
        "print(\"CSV file as a dictionary:\\n\")\n",
        "for row in data:\n",
        "   print(row)"
      ],
      "metadata": {
        "colab": {
          "base_uri": "https://localhost:8080/",
          "height": 211
        },
        "id": "B1JwyRhjZJK8",
        "outputId": "e054f695-9db3-415a-ef3b-6ff5aeb548c5"
      },
      "execution_count": null,
      "outputs": [
        {
          "output_type": "error",
          "ename": "Error",
          "evalue": "iterable expected, not int",
          "traceback": [
            "\u001b[0;31m---------------------------------------------------------------------------\u001b[0m",
            "\u001b[0;31mError\u001b[0m                                     Traceback (most recent call last)",
            "\u001b[0;32m<ipython-input-6-d7a4eb69e4de>\u001b[0m in \u001b[0;36m<cell line: 4>\u001b[0;34m()\u001b[0m\n\u001b[1;32m      4\u001b[0m \u001b[0;32mwith\u001b[0m \u001b[0mopen\u001b[0m\u001b[0;34m(\u001b[0m\u001b[0;34m\"myfile.csv\"\u001b[0m\u001b[0;34m,\u001b[0m \u001b[0;34m\"w\"\u001b[0m\u001b[0;34m,\u001b[0m \u001b[0mnewline\u001b[0m\u001b[0;34m=\u001b[0m\u001b[0;34m\"\"\u001b[0m\u001b[0;34m)\u001b[0m \u001b[0;32mas\u001b[0m \u001b[0mf1\u001b[0m\u001b[0;34m:\u001b[0m\u001b[0;34m\u001b[0m\u001b[0;34m\u001b[0m\u001b[0m\n\u001b[1;32m      5\u001b[0m    \u001b[0mwriter\u001b[0m \u001b[0;34m=\u001b[0m \u001b[0mcsv\u001b[0m\u001b[0;34m.\u001b[0m\u001b[0mwriter\u001b[0m\u001b[0;34m(\u001b[0m\u001b[0mf1\u001b[0m\u001b[0;34m)\u001b[0m\u001b[0;34m\u001b[0m\u001b[0;34m\u001b[0m\u001b[0m\n\u001b[0;32m----> 6\u001b[0;31m    \u001b[0mwriter\u001b[0m\u001b[0;34m.\u001b[0m\u001b[0mwriterows\u001b[0m\u001b[0;34m(\u001b[0m\u001b[0mdata\u001b[0m\u001b[0;34m)\u001b[0m\u001b[0;34m\u001b[0m\u001b[0;34m\u001b[0m\u001b[0m\n\u001b[0m\u001b[1;32m      7\u001b[0m \u001b[0;34m\u001b[0m\u001b[0m\n\u001b[1;32m      8\u001b[0m \u001b[0;31m#reading\u001b[0m\u001b[0;34m\u001b[0m\u001b[0;34m\u001b[0m\u001b[0m\n",
            "\u001b[0;31mError\u001b[0m: iterable expected, not int"
          ]
        }
      ]
    }
  ]
}