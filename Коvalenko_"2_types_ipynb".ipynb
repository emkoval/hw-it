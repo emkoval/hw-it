{
  "nbformat": 4,
  "nbformat_minor": 0,
  "metadata": {
    "colab": {
      "provenance": [],
      "include_colab_link": true
    },
    "kernelspec": {
      "name": "python3",
      "display_name": "Python 3"
    },
    "language_info": {
      "name": "python"
    }
  },
  "cells": [
    {
      "cell_type": "markdown",
      "metadata": {
        "id": "view-in-github",
        "colab_type": "text"
      },
      "source": [
        "<a href=\"https://colab.research.google.com/github/emkoval/hw-it/blob/main/%D0%9A%D0%BEvalenko_%222_types_ipynb%22.ipynb\" target=\"_parent\"><img src=\"https://colab.research.google.com/assets/colab-badge.svg\" alt=\"Open In Colab\"/></a>"
      ]
    },
    {
      "cell_type": "code",
      "source": [
        "import random\n",
        "magic_number = random.randint(0, 10)\n",
        "\n",
        "\n",
        "user_number = input()\n",
        "\n",
        "if user_number == magic_number:\n",
        "  print('Поздравляю, вы угадали!')\n",
        "else:\n",
        "  print('А вот и нет! Это число', magic_number)"
      ],
      "metadata": {
        "id": "l6Dwn2cDj_N9",
        "colab": {
          "base_uri": "https://localhost:8080/"
        },
        "outputId": "8323f7c3-69a1-4440-99e2-6e9f565e6a2b"
      },
      "execution_count": null,
      "outputs": [
        {
          "output_type": "stream",
          "name": "stdout",
          "text": [
            "5\n",
            "А вот и нет! Это число 9\n"
          ]
        }
      ]
    },
    {
      "cell_type": "code",
      "source": [
        "name = input(\"your name: \")\n",
        "print(f\"hi, {name}\")\n"
      ],
      "metadata": {
        "colab": {
          "base_uri": "https://localhost:8080/"
        },
        "outputId": "e31ae7ef-73dd-4682-d06a-a2cf5112293b",
        "id": "y-PGiG7G_7lC"
      },
      "execution_count": null,
      "outputs": [
        {
          "output_type": "stream",
          "name": "stdout",
          "text": [
            "your name: jo\n",
            "hi, jo\n"
          ]
        }
      ]
    },
    {
      "cell_type": "markdown",
      "source": [
        "3. Конвертер температур"
      ],
      "metadata": {
        "id": "A_FhYEiWCAVW"
      }
    },
    {
      "cell_type": "code",
      "source": [
        "\n",
        "### °F = °C × (9/5) + 32 ###\n",
        "cel = float(input(\"Введите температуру в градусах Цельсия \"))\n",
        "fg = cel * (9 / 5) + 32\n",
        "\n",
        "print(f\"Температура в градусах Цельсия {cel}\")\n",
        "print(f\"Температура в градусах Фаренгейта {fg}\")\n"
      ],
      "metadata": {
        "id": "0eRzO5hMkdIc",
        "colab": {
          "base_uri": "https://localhost:8080/"
        },
        "outputId": "2e213236-f0fd-4e0e-aef6-4761b8656ac8"
      },
      "execution_count": null,
      "outputs": [
        {
          "output_type": "stream",
          "name": "stdout",
          "text": [
            "Введите температуру в градусах Цельсия 5\n",
            "Температура в градусах Цельсия 5.0\n",
            "Температура в градусах Фаренгейта 41.0\n"
          ]
        }
      ]
    },
    {
      "cell_type": "code",
      "source": [
        "cel = int(cel)\n",
        "fg = round(fg, 2)\n",
        "\n",
        "print(f\"Температура в градусах Цельсия {cel}\\nТемпература в градусах Фаренгейта {fg}\")\n"
      ],
      "metadata": {
        "colab": {
          "base_uri": "https://localhost:8080/"
        },
        "id": "bUwEDGEFE2g2",
        "outputId": "49eb5c24-02dd-47af-bcb5-1e57b9416e28"
      },
      "execution_count": null,
      "outputs": [
        {
          "output_type": "stream",
          "name": "stdout",
          "text": [
            "Температура в градусах Цельсия 5\n",
            "Температура в градусах Фаренгейта 41.0\n"
          ]
        }
      ]
    },
    {
      "cell_type": "code",
      "source": [
        "print(\"Температура в градусах Цельсия \"+str(cel)+\"\\nТемпература в градусах Фаренгейта \"+str(fg))"
      ],
      "metadata": {
        "colab": {
          "base_uri": "https://localhost:8080/"
        },
        "id": "us_bdGWcGxnN",
        "outputId": "59f2779d-6680-46be-d084-a61811866719"
      },
      "execution_count": null,
      "outputs": [
        {
          "output_type": "stream",
          "name": "stdout",
          "text": [
            "Температура в градусах Цельсия 5\n",
            "Температура в градусах Фаренгейта 41.0\n"
          ]
        }
      ]
    },
    {
      "cell_type": "markdown",
      "source": [
        " 6."
      ],
      "metadata": {
        "id": "yPH8eTU4MKLt"
      }
    },
    {
      "cell_type": "code",
      "source": [
        "num1, num2 = int(input(\"Введите первое число \")), int(input(\"Введите 2e число \"))\n",
        "\n",
        "print(f\"\"\"\\nРезультат сложения {num1 + num2}\\nРезультат вычитания {num1 - num2}\\nРезультат умножения {num1 * num2}\n",
        "Результат возведения во вторую степень первого числа {num1 ** 2}\\nРезультат возведения во вторую степень второго числа {num2 ** 2}\"\"\")\n"
      ],
      "metadata": {
        "id": "n7-Jm439sar_"
      },
      "execution_count": null,
      "outputs": []
    },
    {
      "cell_type": "markdown",
      "source": [
        "\n",
        "7. Анкета"
      ],
      "metadata": {
        "id": "x73Q0mXOuY_A"
      }
    },
    {
      "cell_type": "code",
      "source": [
        "name, age, occupation = input(\"Ваше имя \"), input(\"Ваш возраст \"), input(\"Ваша профессия \")\n",
        "print(f\"name is {name}, \\nage is {age}, \\nim a {occupation}\")\n",
        "### ваш код здесь ###"
      ],
      "metadata": {
        "id": "-I2KyU5CuF_q"
      },
      "execution_count": null,
      "outputs": []
    },
    {
      "cell_type": "markdown",
      "source": [
        "8. Поменять местами переменные"
      ],
      "metadata": {
        "id": "yTqWtZfltMhg"
      }
    },
    {
      "cell_type": "code",
      "source": [
        "\n",
        "\n",
        "var1, var2 = input(\"Введите информацию в первую переменную \"), input(\"Введите информацию во вторую переменную \")\n",
        "print(f\"\"\"В первой переменной хранится  {var1}\n",
        "Во второй переменной хранится  {var2}\"\"\")\n",
        "print(\"Меняем местами...\")\n",
        "var1, var2 = var2, var1\n",
        "print(f\"\"\"В первой переменной хранится  {var1}\n",
        "Во второй переменной хранится  {var2}\"\"\")"
      ],
      "metadata": {
        "colab": {
          "base_uri": "https://localhost:8080/"
        },
        "id": "NTHA_bPbv8uX",
        "outputId": "9f3190db-b2a8-4525-b065-ada8b55a37a8"
      },
      "execution_count": null,
      "outputs": [
        {
          "output_type": "stream",
          "name": "stdout",
          "text": [
            "Введите информацию в первую переменную hi\n",
            "Введите информацию во вторую переменную bye\n",
            "В первой переменной хранится  hi\n",
            "Во второй переменной хранится  bye\n",
            "Меняем местами...\n",
            "В первой переменной хранится  bye\n",
            "Во второй переменной хранится  hi\n"
          ]
        }
      ]
    },
    {
      "cell_type": "markdown",
      "source": [
        "9. Дописать функцию"
      ],
      "metadata": {
        "id": "75A8BHaKv6Wl"
      }
    },
    {
      "cell_type": "code",
      "source": [
        "\n",
        "def sum_and_product(a, b):\n",
        "    total_sum = a + b\n",
        "    product = a * b\n",
        "    return total_sum, product\n",
        "\n",
        "result_sum, result_product = sum_and_product(5, 3)\n",
        "\n",
        "# выведите на экран result_sum и result_product\n",
        "print(f\"Сумма: {result_sum}\")\n",
        "print(f\"Произведение: {result_product}\")\n"
      ],
      "metadata": {
        "colab": {
          "base_uri": "https://localhost:8080/"
        },
        "id": "rBnK8PXDxVRr",
        "outputId": "5e989a6f-75f0-4fab-c518-a202603713de"
      },
      "execution_count": null,
      "outputs": [
        {
          "output_type": "stream",
          "name": "stdout",
          "text": [
            "Сумма: 8\n",
            "Произведение: 15\n"
          ]
        }
      ]
    },
    {
      "cell_type": "markdown",
      "source": [
        "10. Строка и число"
      ],
      "metadata": {
        "id": "ZmO8j5ySxUO9"
      }
    },
    {
      "cell_type": "code",
      "source": [
        "num1, num2 = str(input(\"Введите число \")), str(input(\"Введите еще одно число \"))\n",
        "num1, num2 = num1 + num2, int(num1) + int(num2)\n",
        "print(f\"Результат сложения  {num1}\")\n",
        "print(f\"Результат сложения  {num2}\")\n",
        "\n"
      ],
      "metadata": {
        "colab": {
          "base_uri": "https://localhost:8080/"
        },
        "id": "XOt6ZUeDzFAJ",
        "outputId": "9fc904e7-eea3-427b-b089-f4d394fecce4"
      },
      "execution_count": null,
      "outputs": [
        {
          "output_type": "stream",
          "name": "stdout",
          "text": [
            "Введите число 2\n",
            "Введите еще одно число 4\n",
            "Результат сложения  24\n",
            "Результат сложения  6\n"
          ]
        }
      ]
    }
  ]
}