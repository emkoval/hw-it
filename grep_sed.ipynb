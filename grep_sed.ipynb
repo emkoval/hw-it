{
  "nbformat": 4,
  "nbformat_minor": 0,
  "metadata": {
    "colab": {
      "provenance": [],
      "authorship_tag": "ABX9TyNdq4cCcUKS4gVhIDBqagU2",
      "include_colab_link": true
    },
    "kernelspec": {
      "name": "python3",
      "display_name": "Python 3"
    },
    "language_info": {
      "name": "python"
    }
  },
  "cells": [
    {
      "cell_type": "markdown",
      "metadata": {
        "id": "view-in-github",
        "colab_type": "text"
      },
      "source": [
        "<a href=\"https://colab.research.google.com/github/emkoval/hw-it/blob/main/grep_sed.ipynb\" target=\"_parent\"><img src=\"https://colab.research.google.com/assets/colab-badge.svg\" alt=\"Open In Colab\"/></a>"
      ]
    },
    {
      "cell_type": "markdown",
      "source": [
        "Grep Exercises\n",
        "\n",
        "cd homework\n",
        "\n",
        "\n",
        "1. Find all lines containing the word \"quick\" in file1.txt and save to quick.txt\n",
        "\n",
        "grep -w 'quick' file1.txt > quick.txt\n",
        "\n",
        "\n",
        "2. Count the number of lines containing the word \"the\" (case-insensitive) in file1.txt and save to the_count.txt\n",
        "\n",
        "grep -c -i 'the' file.txt > the_count.txt\n",
        "\n",
        "\n",
        "3. Find all lines that start with \"The\" in file1.txt and save to the.txt\n",
        "\n",
        "grep ^the filr1.txt > the.txt\n",
        "\n",
        "\n",
        "4. Find all lines containing either \"fox\" or \"dog\" in file1.txt and save to animals.txt\n",
        "\n",
        "grep -E -i -w 'fox|dog' file1.txt > animals.txt\n",
        "\n",
        "\n",
        "5. Extract all timestamps from file2.txt and save to timestamps.txt\n",
        "\n",
        "\n",
        "\n",
        "\n",
        "6. Find all ERROR and WARNING messages in file2.txt and save to errors.txt\n",
        "\n",
        "grep -E -w 'ERROR|WARNING' file2.txt > errors.txt"
      ],
      "metadata": {
        "id": "n8pwcY43ZBuK"
      }
    },
    {
      "cell_type": "markdown",
      "source": [
        "Sed Exercises\n",
        "\n",
        "Replace all occurrences of \"quick\" with \"swift\" in file1.txt inplace\n",
        "\n",
        "sed -i 's/quick/swift/g' file1.txt\n",
        "\n",
        "\n",
        "Delete all lines containing the word \"dog\" in file1.txt inplace and save the backup to a file with .orig extension\n",
        "\n",
        "sed -i.bak '/dog/d' file1.txt"
      ],
      "metadata": {
        "id": "HQUVElKZZOEi"
      }
    }
  ]
}