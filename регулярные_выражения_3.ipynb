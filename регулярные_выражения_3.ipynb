{
  "nbformat": 4,
  "nbformat_minor": 0,
  "metadata": {
    "colab": {
      "provenance": [],
      "authorship_tag": "ABX9TyPtkN21dTBFomhnizKK4ldI",
      "include_colab_link": true
    },
    "kernelspec": {
      "name": "python3",
      "display_name": "Python 3"
    },
    "language_info": {
      "name": "python"
    }
  },
  "cells": [
    {
      "cell_type": "markdown",
      "metadata": {
        "id": "view-in-github",
        "colab_type": "text"
      },
      "source": [
        "<a href=\"https://colab.research.google.com/github/emkoval/hw-it/blob/main/%D1%80%D0%B5%D0%B3%D1%83%D0%BB%D1%8F%D1%80%D0%BD%D1%8B%D0%B5_%D0%B2%D1%8B%D1%80%D0%B0%D0%B6%D0%B5%D0%BD%D0%B8%D1%8F_3.ipynb\" target=\"_parent\"><img src=\"https://colab.research.google.com/assets/colab-badge.svg\" alt=\"Open In Colab\"/></a>"
      ]
    },
    {
      "cell_type": "code",
      "execution_count": null,
      "metadata": {
        "id": "h8TCjD-VeQWx"
      },
      "outputs": [],
      "source": []
    },
    {
      "cell_type": "markdown",
      "source": [
        "1 Task: Find all words in a string that start with a capital letter.\n",
        "\t\"Hello world, this is a Regex example with Python.\"\n"
      ],
      "metadata": {
        "id": "B6zZ_AKMehzU"
      }
    },
    {
      "cell_type": "markdown",
      "source": [
        "re.search(pattern, string, flags=0)\n",
        "Scan through string looking for the first location where the regular expression pattern produces a match, and return a corresponding Match.\n",
        "\n",
        "re.findall(pattern, string, flags=0)\n",
        "Return all non-overlapping matches of pattern in string, as a list of strings or tuples. The string is scanned left-to-right, and matches are returned in the order found. Empty matches are included in the result."
      ],
      "metadata": {
        "id": "v8hZ5DTofMZr"
      }
    },
    {
      "cell_type": "code",
      "source": [
        "import re\n"
      ],
      "metadata": {
        "id": "PeGQWjThe5am"
      },
      "execution_count": null,
      "outputs": []
    },
    {
      "cell_type": "code",
      "source": [
        "x = \"Hello world, this is a Regex example with Python.\"\n",
        "re.findall(r\"[A-Z]\\w+\", x)"
      ],
      "metadata": {
        "colab": {
          "base_uri": "https://localhost:8080/"
        },
        "id": "GtRQIq2Vfrsv",
        "outputId": "c6240cc5-eb36-4565-ac26-abdd4d2efce2"
      },
      "execution_count": null,
      "outputs": [
        {
          "output_type": "execute_result",
          "data": {
            "text/plain": [
              "['Hello', 'Regex', 'Python']"
            ]
          },
          "metadata": {},
          "execution_count": 5
        }
      ]
    },
    {
      "cell_type": "markdown",
      "source": [
        "2 Task: Replace all instances of \"is\" with \"was\" in the string.\n",
        "\t\"This is a test. This is only a test.\""
      ],
      "metadata": {
        "id": "clT5eIuTemDK"
      }
    },
    {
      "cell_type": "markdown",
      "source": [
        "re.sub(pattern, repl, string, count=0, flags=0)\n",
        "Return the string obtained by replacing the leftmost non-overlapping occurrences of pattern in string by the replacement repl."
      ],
      "metadata": {
        "id": "duTqgC8EiDc4"
      }
    },
    {
      "cell_type": "code",
      "source": [
        "y = \"This is a test. This is only a test.\"\n",
        "re.sub(r\"\\bis\\b\", \"was\", y)\n"
      ],
      "metadata": {
        "colab": {
          "base_uri": "https://localhost:8080/",
          "height": 35
        },
        "id": "MdVQdBQ3hgJH",
        "outputId": "fe40a7ab-fb65-4bc8-cf6e-dbee7bd26d88"
      },
      "execution_count": null,
      "outputs": [
        {
          "output_type": "execute_result",
          "data": {
            "text/plain": [
              "'This was a test. This was only a test.'"
            ],
            "application/vnd.google.colaboratory.intrinsic+json": {
              "type": "string"
            }
          },
          "metadata": {},
          "execution_count": 10
        }
      ]
    },
    {
      "cell_type": "markdown",
      "source": [
        "3 Task: Extract All URLs from a Text\n",
        "\"\"\"\n",
        "Visit https://www.example.com or follow http://example.org.\n",
        "You can also check out https://another-example.com/path?arg=val for more details.\n",
        "\"\"\"\n"
      ],
      "metadata": {
        "id": "Gx3xuEtoeqVA"
      }
    },
    {
      "cell_type": "code",
      "source": [
        "a = \"\"\" Visit https://www.example.com or follow http://example.org. You can also check out https://another-example.com/path?arg=val for more details. \"\"\"\n",
        "re.findall(r\"(\\bhttp\\S+)\", a)"
      ],
      "metadata": {
        "colab": {
          "base_uri": "https://localhost:8080/"
        },
        "id": "mM2kLRKuiuMK",
        "outputId": "2b946e7e-cdd8-4e4d-8bb4-28f6f5cd42cd"
      },
      "execution_count": null,
      "outputs": [
        {
          "output_type": "execute_result",
          "data": {
            "text/plain": [
              "['https://www.example.com',\n",
              " 'http://example.org.',\n",
              " 'https://another-example.com/path?arg=val']"
            ]
          },
          "metadata": {},
          "execution_count": 48
        }
      ]
    },
    {
      "cell_type": "markdown",
      "source": [
        "4 Task: Find all hashtags in a comment\n",
        "\t\"Loving the #sunset and #nature! #beautiful_day\"\n"
      ],
      "metadata": {
        "id": "oIWJL5wvetxG"
      }
    },
    {
      "cell_type": "code",
      "source": [
        "b = \"Loving the #sunset and #nature! #beautiful_day\"\n",
        "\n",
        "re.findall(r\"#\\w+\", b)"
      ],
      "metadata": {
        "colab": {
          "base_uri": "https://localhost:8080/"
        },
        "id": "4CFOVqZhk0SA",
        "outputId": "fd112fec-8cc6-4edd-9368-75d5bf175b0e"
      },
      "execution_count": null,
      "outputs": [
        {
          "output_type": "execute_result",
          "data": {
            "text/plain": [
              "['#sunset', '#nature', '#beautiful_day']"
            ]
          },
          "metadata": {},
          "execution_count": 33
        }
      ]
    },
    {
      "cell_type": "markdown",
      "source": [
        "5 Task: Remove the repeated words\n",
        "\t\"This is is a test test string.\""
      ],
      "metadata": {
        "id": "zyKX4NY4e3Qe"
      }
    },
    {
      "cell_type": "code",
      "source": [
        "c = \"This is is a test test string.\"\n",
        "re.sub(r\"\\b(\\w+)\\s+\\1\\b\", \"\", c)"
      ],
      "metadata": {
        "colab": {
          "base_uri": "https://localhost:8080/",
          "height": 35
        },
        "id": "q1l2gC_6lOAg",
        "outputId": "611335ff-9207-4a98-e078-15c643163d36"
      },
      "execution_count": null,
      "outputs": [
        {
          "output_type": "execute_result",
          "data": {
            "text/plain": [
              "'This  a  string.'"
            ],
            "application/vnd.google.colaboratory.intrinsic+json": {
              "type": "string"
            }
          },
          "metadata": {},
          "execution_count": 51
        }
      ]
    }
  ]
}